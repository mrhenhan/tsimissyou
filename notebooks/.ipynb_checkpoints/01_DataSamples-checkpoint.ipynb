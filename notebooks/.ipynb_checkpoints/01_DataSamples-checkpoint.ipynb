{
 "cells": [
  {
   "cell_type": "markdown",
   "metadata": {},
   "source": [
    "# T.S Data Samples\n",
    "artificial and real world time series data sets for the talk T.S. I miss you"
   ]
  },
  {
   "cell_type": "code",
   "execution_count": 2,
   "metadata": {},
   "outputs": [],
   "source": [
    "import numpy as np\n",
    "import pandas as pd\n",
    "import glob, os\n",
    "from datetime import datetime, timedelta\n",
    "import matplotlib as mpl\n",
    "import matplotlib.pyplot as plt\n",
    "import seaborn as sns\n",
    "import statsmodels\n",
    "\n",
    "from ipywidgets import interact, interactive, fixed, interact_manual\n",
    "import ipywidgets as widgets\n",
    "from IPython.display import Image\n",
    "\n",
    "import cufflinks as cf\n",
    "\n",
    "sns.set(color_codes=True)"
   ]
  },
  {
   "cell_type": "code",
   "execution_count": 3,
   "metadata": {},
   "outputs": [],
   "source": [
    "date = \"2019-10-01\"\n",
    "base = datetime(2019,12,31)\n",
    "dates = [datetime.strftime((base - timedelta(days=x)),\" %Y-%m-%d \") for x in range(93)]\n",
    "dates.reverse()"
   ]
  },
  {
   "cell_type": "code",
   "execution_count": 4,
   "metadata": {
    "jupyter": {
     "source_hidden": true
    }
   },
   "outputs": [
    {
     "data": {
      "application/vnd.jupyter.widget-view+json": {
       "model_id": "02b03a95b275498ca5dedce6e190a8e5",
       "version_major": 2,
       "version_minor": 0
      },
      "text/plain": [
       "SelectionRangeSlider(description='Date Range:', index=(0, 92), layout=Layout(width='500px'), options=(' 2019-0…"
      ]
     },
     "metadata": {},
     "output_type": "display_data"
    },
    {
     "data": {
      "application/vnd.jupyter.widget-view+json": {
       "model_id": "0bb6a326dc8441fe9d54c3ef0428de2c",
       "version_major": 2,
       "version_minor": 0
      },
      "text/plain": [
       "Button(button_style='warning', description='Load', icon='check', style=ButtonStyle(), tooltip='Load DBPDS Data…"
      ]
     },
     "metadata": {},
     "output_type": "display_data"
    }
   ],
   "source": [
    "unprocessed_df = None\n",
    "\n",
    "dr_slider = widgets.SelectionRangeSlider(\n",
    "    options=dates,\n",
    "    index=(0,len(dates)-1),\n",
    "    description='Date Range:',\n",
    "    disabled=False,\n",
    "    orientation='horizontal',\n",
    "    layout={'width': '500px'}\n",
    ")\n",
    "\n",
    "btn = widgets.Button(\n",
    "    description='Load',\n",
    "    disabled=False,\n",
    "    button_style='warning', # 'success', 'info', 'warning', 'danger' or ''\n",
    "    tooltip='Load DBPDS Data',\n",
    "    icon='check' # (FontAwesome names without the `fa-` prefix)\n",
    ")\n",
    "\n",
    "def date_range(dtr_str):\n",
    "    start = datetime.strptime(dtr_str[0].strip(), \"%Y-%m-%d\")\n",
    "    end = datetime.strptime(dtr_str[1].strip(), \"%Y-%m-%d\")\n",
    "    td = end - start\n",
    "    dtr = [datetime.strftime((end - timedelta(days=x)),\" %Y-%m-%d \") for x in range(td.days)]\n",
    "    dtr.reverse()\n",
    "    return dtr\n",
    "\n",
    "# Load the files from a date directory\n",
    "def load_csv_dir(data_dir):\n",
    "    print(data_dir)\n",
    "    return pd.concat(map(pd.read_csv, glob.glob(os.path.join(data_dir, '*.csv'))))\n",
    "\n",
    "def load_csv_dirs(dtr):\n",
    "    frames = [load_csv_dir(f\"../dbpds/{d.strip()}\") for d in dtr]\n",
    "    return pd.concat(frames, axis=0)\n",
    "\n",
    "def load_event_handler(obj):\n",
    "    global unprocessed_df\n",
    "    unprocessed_df = load_csv_dirs(date_range(dr_slider.value))\n",
    "\n",
    "btn.on_click(load_event_handler)\n",
    "display(dr_slider, btn)"
   ]
  },
  {
   "cell_type": "code",
   "execution_count": 31,
   "metadata": {
    "collapsed": true,
    "jupyter": {
     "outputs_hidden": true,
     "source_hidden": true
    }
   },
   "outputs": [
    {
     "data": {
      "text/html": [
       "<div>\n",
       "<style scoped>\n",
       "    .dataframe tbody tr th:only-of-type {\n",
       "        vertical-align: middle;\n",
       "    }\n",
       "\n",
       "    .dataframe tbody tr th {\n",
       "        vertical-align: top;\n",
       "    }\n",
       "\n",
       "    .dataframe thead th {\n",
       "        text-align: right;\n",
       "    }\n",
       "</style>\n",
       "<table border=\"1\" class=\"dataframe\">\n",
       "  <thead>\n",
       "    <tr style=\"text-align: right;\">\n",
       "      <th></th>\n",
       "      <th>ISIN</th>\n",
       "      <th>Mnemonic</th>\n",
       "      <th>SecurityDesc</th>\n",
       "      <th>SecurityType</th>\n",
       "      <th>Currency</th>\n",
       "      <th>SecurityID</th>\n",
       "      <th>Date</th>\n",
       "      <th>Time</th>\n",
       "      <th>StartPrice</th>\n",
       "      <th>MaxPrice</th>\n",
       "      <th>MinPrice</th>\n",
       "      <th>EndPrice</th>\n",
       "      <th>TradedVolume</th>\n",
       "      <th>NumberOfTrades</th>\n",
       "    </tr>\n",
       "  </thead>\n",
       "  <tbody>\n",
       "    <tr>\n",
       "      <th>0</th>\n",
       "      <td>FR0010756114</td>\n",
       "      <td>18MP</td>\n",
       "      <td>AMUNDI ETF MSCI WLD X EMU</td>\n",
       "      <td>ETF</td>\n",
       "      <td>EUR</td>\n",
       "      <td>2505288</td>\n",
       "      <td>2019-10-01</td>\n",
       "      <td>10:00</td>\n",
       "      <td>308.050</td>\n",
       "      <td>308.050</td>\n",
       "      <td>308.050</td>\n",
       "      <td>308.050</td>\n",
       "      <td>13</td>\n",
       "      <td>1</td>\n",
       "    </tr>\n",
       "    <tr>\n",
       "      <th>1</th>\n",
       "      <td>LU0274209740</td>\n",
       "      <td>DBXJ</td>\n",
       "      <td>XTR.MSCI JAPAN 1C</td>\n",
       "      <td>ETF</td>\n",
       "      <td>EUR</td>\n",
       "      <td>2505827</td>\n",
       "      <td>2019-10-01</td>\n",
       "      <td>10:00</td>\n",
       "      <td>55.262</td>\n",
       "      <td>55.262</td>\n",
       "      <td>55.262</td>\n",
       "      <td>55.262</td>\n",
       "      <td>1</td>\n",
       "      <td>1</td>\n",
       "    </tr>\n",
       "    <tr>\n",
       "      <th>2</th>\n",
       "      <td>DE0005403901</td>\n",
       "      <td>CWC</td>\n",
       "      <td>CEWE STIFT.KGAA  O.N.</td>\n",
       "      <td>Common stock</td>\n",
       "      <td>EUR</td>\n",
       "      <td>2504924</td>\n",
       "      <td>2019-10-01</td>\n",
       "      <td>10:00</td>\n",
       "      <td>78.500</td>\n",
       "      <td>78.500</td>\n",
       "      <td>78.500</td>\n",
       "      <td>78.500</td>\n",
       "      <td>11</td>\n",
       "      <td>1</td>\n",
       "    </tr>\n",
       "    <tr>\n",
       "      <th>3</th>\n",
       "      <td>DE0005773303</td>\n",
       "      <td>FRA</td>\n",
       "      <td>FRAPORT AG FFM.AIRPORT</td>\n",
       "      <td>Common stock</td>\n",
       "      <td>EUR</td>\n",
       "      <td>2504970</td>\n",
       "      <td>2019-10-01</td>\n",
       "      <td>10:00</td>\n",
       "      <td>77.700</td>\n",
       "      <td>77.700</td>\n",
       "      <td>77.700</td>\n",
       "      <td>77.700</td>\n",
       "      <td>6</td>\n",
       "      <td>2</td>\n",
       "    </tr>\n",
       "    <tr>\n",
       "      <th>4</th>\n",
       "      <td>US5949181045</td>\n",
       "      <td>MSF</td>\n",
       "      <td>MICROSOFT    DL-,00000625</td>\n",
       "      <td>Common stock</td>\n",
       "      <td>EUR</td>\n",
       "      <td>2506530</td>\n",
       "      <td>2019-10-01</td>\n",
       "      <td>10:00</td>\n",
       "      <td>128.000</td>\n",
       "      <td>128.000</td>\n",
       "      <td>128.000</td>\n",
       "      <td>128.000</td>\n",
       "      <td>4</td>\n",
       "      <td>1</td>\n",
       "    </tr>\n",
       "  </tbody>\n",
       "</table>\n",
       "</div>"
      ],
      "text/plain": [
       "           ISIN Mnemonic               SecurityDesc  SecurityType Currency  \\\n",
       "0  FR0010756114     18MP  AMUNDI ETF MSCI WLD X EMU           ETF      EUR   \n",
       "1  LU0274209740     DBXJ          XTR.MSCI JAPAN 1C           ETF      EUR   \n",
       "2  DE0005403901      CWC      CEWE STIFT.KGAA  O.N.  Common stock      EUR   \n",
       "3  DE0005773303      FRA     FRAPORT AG FFM.AIRPORT  Common stock      EUR   \n",
       "4  US5949181045      MSF  MICROSOFT    DL-,00000625  Common stock      EUR   \n",
       "\n",
       "  SecurityID        Date   Time  StartPrice  MaxPrice  MinPrice  EndPrice  \\\n",
       "0    2505288  2019-10-01  10:00     308.050   308.050   308.050   308.050   \n",
       "1    2505827  2019-10-01  10:00      55.262    55.262    55.262    55.262   \n",
       "2    2504924  2019-10-01  10:00      78.500    78.500    78.500    78.500   \n",
       "3    2504970  2019-10-01  10:00      77.700    77.700    77.700    77.700   \n",
       "4    2506530  2019-10-01  10:00     128.000   128.000   128.000   128.000   \n",
       "\n",
       "  TradedVolume NumberOfTrades  \n",
       "0           13              1  \n",
       "1            1              1  \n",
       "2           11              1  \n",
       "3            6              2  \n",
       "4            4              1  "
      ]
     },
     "execution_count": 31,
     "metadata": {},
     "output_type": "execute_result"
    }
   ],
   "source": [
    "unprocessed_df.head()"
   ]
  },
  {
   "cell_type": "code",
   "execution_count": 5,
   "metadata": {
    "jupyter": {
     "source_hidden": true
    }
   },
   "outputs": [],
   "source": [
    "# Introduce a new column called CalcDateTime that is a timestamp calculated from the date and time string columns\n",
    "time_fmt = \"%H:%M\"\n",
    "\n",
    "def convert_time(time):\n",
    "    return datetime.strptime(time, time_fmt)\n",
    "\n",
    "def convert_dt(date, time):\n",
    "    return datetime.strptime(date + ' ' + time, '%Y-%m-%d %H:%M')\n",
    "\n",
    "unprocessed_df[\"CalcTime\"] = unprocessed_df.apply(lambda row: convert_time(row['Time']), axis=1)\n",
    "unprocessed_df[\"CalcDateTime\"] = unprocessed_df.apply(lambda row: convert_dt(row['Date'], row['Time']), axis=1)"
   ]
  },
  {
   "cell_type": "code",
   "execution_count": 7,
   "metadata": {
    "jupyter": {
     "source_hidden": true
    }
   },
   "outputs": [
    {
     "name": "stdout",
     "output_type": "stream",
     "text": [
      "Common stock: 5363511, Other: 1935124\n"
     ]
    }
   ],
   "source": [
    "# Only keep common stock securities for analysis\n",
    "only_common_stock = unprocessed_df[unprocessed_df.SecurityType == 'Common stock']\n",
    "print(\"Common stock: {}, Other: {}\".format(only_common_stock.count()[0], unprocessed_df[unprocessed_df.SecurityType != 'Common stock'].count()[0]))"
   ]
  },
  {
   "cell_type": "code",
   "execution_count": 8,
   "metadata": {
    "jupyter": {
     "source_hidden": true
    }
   },
   "outputs": [],
   "source": [
    "# Keep only data points with trades between the opening and closing hours\n",
    "opening_hours = datetime.strptime(\"08:00\", time_fmt)\n",
    "closing_hours = datetime.strptime(\"20:00\", time_fmt)\n",
    "\n",
    "cleaned_common_stock = only_common_stock[(only_common_stock.TradedVolume > 0) & \\\n",
    "                  (only_common_stock.CalcTime >= opening_hours) & \\\n",
    "                  (only_common_stock.CalcTime <= closing_hours)]"
   ]
  },
  {
   "cell_type": "code",
   "execution_count": 9,
   "metadata": {
    "collapsed": true,
    "jupyter": {
     "outputs_hidden": true,
     "source_hidden": true
    }
   },
   "outputs": [
    {
     "data": {
      "text/html": [
       "<div>\n",
       "<style scoped>\n",
       "    .dataframe tbody tr th:only-of-type {\n",
       "        vertical-align: middle;\n",
       "    }\n",
       "\n",
       "    .dataframe tbody tr th {\n",
       "        vertical-align: top;\n",
       "    }\n",
       "\n",
       "    .dataframe thead th {\n",
       "        text-align: right;\n",
       "    }\n",
       "</style>\n",
       "<table border=\"1\" class=\"dataframe\">\n",
       "  <thead>\n",
       "    <tr style=\"text-align: right;\">\n",
       "      <th></th>\n",
       "      <th>ISIN</th>\n",
       "      <th>Mnemonic</th>\n",
       "      <th>SecurityDesc</th>\n",
       "      <th>SecurityType</th>\n",
       "      <th>Currency</th>\n",
       "      <th>SecurityID</th>\n",
       "      <th>Date</th>\n",
       "      <th>Time</th>\n",
       "      <th>StartPrice</th>\n",
       "      <th>MaxPrice</th>\n",
       "      <th>MinPrice</th>\n",
       "      <th>EndPrice</th>\n",
       "      <th>TradedVolume</th>\n",
       "      <th>NumberOfTrades</th>\n",
       "      <th>CalcTime</th>\n",
       "      <th>CalcDateTime</th>\n",
       "    </tr>\n",
       "  </thead>\n",
       "  <tbody>\n",
       "    <tr>\n",
       "      <th>2</th>\n",
       "      <td>DE0005403901</td>\n",
       "      <td>CWC</td>\n",
       "      <td>CEWE STIFT.KGAA  O.N.</td>\n",
       "      <td>Common stock</td>\n",
       "      <td>EUR</td>\n",
       "      <td>2504924</td>\n",
       "      <td>2019-10-01</td>\n",
       "      <td>10:00</td>\n",
       "      <td>78.500</td>\n",
       "      <td>78.500</td>\n",
       "      <td>78.500</td>\n",
       "      <td>78.500</td>\n",
       "      <td>11</td>\n",
       "      <td>1</td>\n",
       "      <td>1900-01-01 10:00:00</td>\n",
       "      <td>2019-10-01 10:00:00</td>\n",
       "    </tr>\n",
       "    <tr>\n",
       "      <th>3</th>\n",
       "      <td>DE0005773303</td>\n",
       "      <td>FRA</td>\n",
       "      <td>FRAPORT AG FFM.AIRPORT</td>\n",
       "      <td>Common stock</td>\n",
       "      <td>EUR</td>\n",
       "      <td>2504970</td>\n",
       "      <td>2019-10-01</td>\n",
       "      <td>10:00</td>\n",
       "      <td>77.700</td>\n",
       "      <td>77.700</td>\n",
       "      <td>77.700</td>\n",
       "      <td>77.700</td>\n",
       "      <td>6</td>\n",
       "      <td>2</td>\n",
       "      <td>1900-01-01 10:00:00</td>\n",
       "      <td>2019-10-01 10:00:00</td>\n",
       "    </tr>\n",
       "    <tr>\n",
       "      <th>4</th>\n",
       "      <td>US5949181045</td>\n",
       "      <td>MSF</td>\n",
       "      <td>MICROSOFT    DL-,00000625</td>\n",
       "      <td>Common stock</td>\n",
       "      <td>EUR</td>\n",
       "      <td>2506530</td>\n",
       "      <td>2019-10-01</td>\n",
       "      <td>10:00</td>\n",
       "      <td>128.000</td>\n",
       "      <td>128.000</td>\n",
       "      <td>128.000</td>\n",
       "      <td>128.000</td>\n",
       "      <td>4</td>\n",
       "      <td>1</td>\n",
       "      <td>1900-01-01 10:00:00</td>\n",
       "      <td>2019-10-01 10:00:00</td>\n",
       "    </tr>\n",
       "    <tr>\n",
       "      <th>7</th>\n",
       "      <td>DE0005140008</td>\n",
       "      <td>DBK</td>\n",
       "      <td>DEUTSCHE BANK AG NA O.N.</td>\n",
       "      <td>Common stock</td>\n",
       "      <td>EUR</td>\n",
       "      <td>2504888</td>\n",
       "      <td>2019-10-01</td>\n",
       "      <td>10:00</td>\n",
       "      <td>6.852</td>\n",
       "      <td>6.854</td>\n",
       "      <td>6.847</td>\n",
       "      <td>6.852</td>\n",
       "      <td>17423</td>\n",
       "      <td>25</td>\n",
       "      <td>1900-01-01 10:00:00</td>\n",
       "      <td>2019-10-01 10:00:00</td>\n",
       "    </tr>\n",
       "    <tr>\n",
       "      <th>8</th>\n",
       "      <td>CA0679011084</td>\n",
       "      <td>ABR</td>\n",
       "      <td>BARRICK GOLD CORP.</td>\n",
       "      <td>Common stock</td>\n",
       "      <td>EUR</td>\n",
       "      <td>2504196</td>\n",
       "      <td>2019-10-01</td>\n",
       "      <td>10:00</td>\n",
       "      <td>15.738</td>\n",
       "      <td>15.738</td>\n",
       "      <td>15.700</td>\n",
       "      <td>15.700</td>\n",
       "      <td>763</td>\n",
       "      <td>2</td>\n",
       "      <td>1900-01-01 10:00:00</td>\n",
       "      <td>2019-10-01 10:00:00</td>\n",
       "    </tr>\n",
       "  </tbody>\n",
       "</table>\n",
       "</div>"
      ],
      "text/plain": [
       "           ISIN Mnemonic               SecurityDesc  SecurityType Currency  \\\n",
       "2  DE0005403901      CWC      CEWE STIFT.KGAA  O.N.  Common stock      EUR   \n",
       "3  DE0005773303      FRA     FRAPORT AG FFM.AIRPORT  Common stock      EUR   \n",
       "4  US5949181045      MSF  MICROSOFT    DL-,00000625  Common stock      EUR   \n",
       "7  DE0005140008      DBK   DEUTSCHE BANK AG NA O.N.  Common stock      EUR   \n",
       "8  CA0679011084      ABR         BARRICK GOLD CORP.  Common stock      EUR   \n",
       "\n",
       "  SecurityID        Date   Time  StartPrice  MaxPrice  MinPrice  EndPrice  \\\n",
       "2    2504924  2019-10-01  10:00      78.500    78.500    78.500    78.500   \n",
       "3    2504970  2019-10-01  10:00      77.700    77.700    77.700    77.700   \n",
       "4    2506530  2019-10-01  10:00     128.000   128.000   128.000   128.000   \n",
       "7    2504888  2019-10-01  10:00       6.852     6.854     6.847     6.852   \n",
       "8    2504196  2019-10-01  10:00      15.738    15.738    15.700    15.700   \n",
       "\n",
       "  TradedVolume NumberOfTrades            CalcTime        CalcDateTime  \n",
       "2           11              1 1900-01-01 10:00:00 2019-10-01 10:00:00  \n",
       "3            6              2 1900-01-01 10:00:00 2019-10-01 10:00:00  \n",
       "4            4              1 1900-01-01 10:00:00 2019-10-01 10:00:00  \n",
       "7        17423             25 1900-01-01 10:00:00 2019-10-01 10:00:00  \n",
       "8          763              2 1900-01-01 10:00:00 2019-10-01 10:00:00  "
      ]
     },
     "execution_count": 9,
     "metadata": {},
     "output_type": "execute_result"
    }
   ],
   "source": [
    "cleaned_common_stock.head()"
   ]
  },
  {
   "cell_type": "code",
   "execution_count": 10,
   "metadata": {
    "collapsed": true,
    "jupyter": {
     "outputs_hidden": true,
     "source_hidden": true
    }
   },
   "outputs": [
    {
     "name": "stdout",
     "output_type": "stream",
     "text": [
      "NaN: 101147\n",
      "NaN: 101147\n",
      "NaN: 101147\n",
      "NaN: 101147\n"
     ]
    },
    {
     "data": {
      "image/png": "[encoded data removed]",
      "text/plain": [
       "<Figure size 1080x720 with 1 Axes>"
      ]
     },
     "metadata": {},
     "output_type": "display_data"
    }
   ],
   "source": [
    "mpl.rcParams['figure.figsize'] = (15, 10) # use bigger graphs\n",
    "def timeseries_plot(df, mnemonics, metrics, freq=1):\n",
    "    ax = None\n",
    "    def sample_metric(selected, metric, interval):\n",
    "        if metric == 'EndPrice':\n",
    "            return selected[metric].resample(interval).last()\n",
    "        elif metric == 'StartPrice':\n",
    "            return selected[metric].resample(interval).first()\n",
    "        elif metric == 'MinPrice':\n",
    "            return selected[metric].resample(interval).min()\n",
    "        elif metric == 'MaxPrice':\n",
    "            return selected[metric].resample(interval).max()\n",
    "            \n",
    "    for mnemonic in mnemonics:\n",
    "        for metric in metrics:\n",
    "            selected = df[df.Mnemonic == mnemonic][['CalcDateTime', metric]].copy()\n",
    "            selected.index = selected['CalcDateTime']\n",
    "            del selected['CalcDateTime']\n",
    "            selected = selected.sort_index()\n",
    "            interval = f\"{freq}Min\"\n",
    "            selected = sample_metric(selected, metric, interval)\n",
    "            print(f\"NaN: {selected.isna().sum()}\")\n",
    "\n",
    "            ax = selected.plot( ax = ax)\n",
    "\n",
    "timeseries_plot(cleaned_common_stock, ['BMW'], ['MinPrice', 'MaxPrice', 'StartPrice', 'EndPrice'])"
   ]
  },
  {
   "cell_type": "code",
   "execution_count": 13,
   "metadata": {},
   "outputs": [
    {
     "data": {
      "application/vnd.jupyter.widget-view+json": {
       "model_id": "5bb790bb84f146f09e6faa81b7191d9e",
       "version_major": 2,
       "version_minor": 0
      },
      "text/plain": [
       "interactive(children=(Dropdown(description='mnemonic', options=('1COV', '1FC', '1NBA', '1SI', '1T2', '1TY', '1…"
      ]
     },
     "metadata": {},
     "output_type": "display_data"
    }
   ],
   "source": [
    "mnemonics = sorted(list(set(cleaned_common_stock[\"Mnemonic\"])))\n",
    "@interact\n",
    "def price_plot(mnemonic=mnemonics, freq=widgets.IntSlider(min=1, max=24*60*5, step=1, value=1)):\n",
    "    return timeseries_plot(cleaned_common_stock, [mnemonic], ['MinPrice', 'MaxPrice', 'StartPrice', 'EndPrice'], freq)"
   ]
  }
 ],
 "metadata": {
  "kernelspec": {
   "display_name": "Python 3",
   "language": "python",
   "name": "python3"
  },
  "language_info": {
   "codemirror_mode": {
    "name": "ipython",
    "version": 3
   },
   "file_extension": ".py",
   "mimetype": "text/x-python",
   "name": "python",
   "nbconvert_exporter": "python",
   "pygments_lexer": "ipython3",
   "version": "3.7.3"
  }
 },
 "nbformat": 4,
 "nbformat_minor": 4
}
